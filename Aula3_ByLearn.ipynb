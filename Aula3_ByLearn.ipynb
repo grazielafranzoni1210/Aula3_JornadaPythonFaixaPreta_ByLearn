{
  "nbformat": 4,
  "nbformat_minor": 0,
  "metadata": {
    "colab": {
      "name": "Aula3_ByLearn.ipynb",
      "provenance": [],
      "collapsed_sections": [],
      "authorship_tag": "ABX9TyONaVBYt566un+g6GcMLb/9",
      "include_colab_link": true
    },
    "kernelspec": {
      "name": "python3",
      "display_name": "Python 3"
    },
    "language_info": {
      "name": "python"
    }
  },
  "cells": [
    {
      "cell_type": "markdown",
      "metadata": {
        "id": "view-in-github",
        "colab_type": "text"
      },
      "source": [
        "<a href=\"https://colab.research.google.com/github/grazielafranzoni1210/Aula3_JornadaPythonFaixaPreta_ByLearn/blob/main/Aula3_ByLearn.ipynb\" target=\"_parent\"><img src=\"https://colab.research.google.com/assets/colab-badge.svg\" alt=\"Open In Colab\"/></a>"
      ]
    },
    {
      "cell_type": "markdown",
      "metadata": {
        "id": "_7r_ZSare-aQ"
      },
      "source": [
        "# Possibilidades do IF\n",
        "\n",
        "*  (==) Verificar igualdade\n",
        "*  (>=) Verificar se é maior ou igual\n",
        "*  (<=) Verificar se é menor ou igual\n",
        "*  (>) Verificar se é maior\n",
        "*  (<) Verificar se é menor\n",
        "*  (!=) Verificar se é difirente\n",
        "\n",
        "**Ps:** Sem os parênteses.\n",
        "\n",
        "\n"
      ]
    },
    {
      "cell_type": "code",
      "metadata": {
        "colab": {
          "base_uri": "https://localhost:8080/"
        },
        "id": "x8-KJYRTVabc",
        "outputId": "0e547ce6-ee0f-4bd3-92a2-c6b13bff9b7f"
      },
      "source": [
        "# Joguinho => 1, 3, 5, 7\n",
        "\n",
        "numero = 8\n",
        "\n",
        "if numero == 1:\n",
        "  print('Você acertou!')\n",
        "elif numero == 3:\n",
        "  print('Você acertou!')\n",
        "elif numero == 5:\n",
        "  print('Você acertou!')\n",
        "elif numero == 7:\n",
        "  print('Você acertou!')\n",
        "else:\n",
        "  print('Você errou!')"
      ],
      "execution_count": null,
      "outputs": [
        {
          "output_type": "stream",
          "text": [
            "Você errou!\n"
          ],
          "name": "stdout"
        }
      ]
    },
    {
      "cell_type": "markdown",
      "metadata": {
        "id": "QWJTbePXb-Z7"
      },
      "source": [
        "# Operadores lógicos\n",
        "\n",
        "O objetivo é criar condições compostas.\n",
        "\n",
        "Ex:\n",
        "*   Se está calor E (and) está de dia.\n",
        "*   Se for sábado OU (or) se for domingo.\n",
        "\n"
      ]
    },
    {
      "cell_type": "code",
      "metadata": {
        "colab": {
          "base_uri": "https://localhost:8080/"
        },
        "id": "xGYaBjJacxsP",
        "outputId": "c1242639-97f7-4a94-866d-0235b3ba2540"
      },
      "source": [
        "temperatura = 'calor'\n",
        "horario = 'dia'\n",
        "\n",
        "if temperatura == 'calor' and horario == 'dia':\n",
        "  print('Vamos tomar um sorvete!')\n",
        "elif temperatura == 'calor' and horario == 'noite':\n",
        "  print('Vamos tomar um açaí!')\n",
        "elif temperatura == 'frio' or temperatura == 'congelando':\n",
        "  print('Vamos tomar um café!')\n",
        "else:\n",
        "  print('Vamos de refri e pipoca!')"
      ],
      "execution_count": null,
      "outputs": [
        {
          "output_type": "stream",
          "text": [
            "Vamos tomar um sorvete!\n"
          ],
          "name": "stdout"
        }
      ]
    },
    {
      "cell_type": "code",
      "metadata": {
        "colab": {
          "base_uri": "https://localhost:8080/"
        },
        "id": "n2aLNrLTnL7g",
        "outputId": "5dd4d254-0ae3-4590-e6d7-4e845d8d15e7"
      },
      "source": [
        "dia = 'quarta'\n",
        "\n",
        "if dia == 'sabado' or dia == 'domingo':\n",
        "  print('#FimDeSemana')\n",
        "elif dia == 'sexta':\n",
        "  print('#Sextou')\n",
        "else:\n",
        "  print('No aguardo do fim de semana #Cafe!')"
      ],
      "execution_count": null,
      "outputs": [
        {
          "output_type": "stream",
          "text": [
            "No aguardo do fim de semana #Cafe!\n"
          ],
          "name": "stdout"
        }
      ]
    },
    {
      "cell_type": "code",
      "metadata": {
        "colab": {
          "base_uri": "https://localhost:8080/"
        },
        "id": "gmR2P_pmq5I2",
        "outputId": "69db0978-f60d-4349-a764-bd4b3d804814"
      },
      "source": [
        "# Joguinho => 1, 3, 5, 7\n",
        "\n",
        "numero = 3\n",
        "\n",
        "if numero == 1 or numero == 3 or numero == 5 or numero == 7:\n",
        "  print('Você acertou!')\n",
        "else:\n",
        "  print('Você errou!')"
      ],
      "execution_count": null,
      "outputs": [
        {
          "output_type": "stream",
          "text": [
            "Você acertou!\n"
          ],
          "name": "stdout"
        }
      ]
    },
    {
      "cell_type": "code",
      "metadata": {
        "colab": {
          "base_uri": "https://localhost:8080/"
        },
        "id": "5lG89nVIsTqV",
        "outputId": "de525c0f-5f8e-4164-add6-45f2a683749f"
      },
      "source": [
        "idade = 24\n",
        "\n",
        "if idade != 24:\n",
        "  print('Você não tem a mesma idade do que o Felipe!')\n",
        "else:\n",
        "  print('Você tem a mesma idade do Felipe!')"
      ],
      "execution_count": null,
      "outputs": [
        {
          "output_type": "stream",
          "text": [
            "Você tem a mesma idade do Felipe!\n"
          ],
          "name": "stdout"
        }
      ]
    },
    {
      "cell_type": "code",
      "metadata": {
        "colab": {
          "base_uri": "https://localhost:8080/"
        },
        "id": "xnt7LTyCtdh7",
        "outputId": "401b8a9a-682c-4bdc-ac28-96bf90e0eb49"
      },
      "source": [
        "idade = 24\n",
        "\n",
        "if idade is not 24:\n",
        "  print('Você não tem a mesma idade do que o Felipe!')\n",
        "else:\n",
        "  print('Você tem a mesma idade do Felipe!')"
      ],
      "execution_count": null,
      "outputs": [
        {
          "output_type": "stream",
          "text": [
            "Você tem a mesma idade do Felipe!\n"
          ],
          "name": "stdout"
        }
      ]
    },
    {
      "cell_type": "code",
      "metadata": {
        "colab": {
          "base_uri": "https://localhost:8080/"
        },
        "id": "_L2vZfO5uEFI",
        "outputId": "ae85a07a-f793-48a7-846d-b02a62047500"
      },
      "source": [
        "numero = 5\n",
        "\n",
        "if numero < 10:\n",
        "  print('A')\n",
        "if numero < 15:\n",
        "  print('B')\n",
        "if numero < 25:\n",
        "  print('C')\n",
        "if numero < 30:\n",
        "  print('D')\n",
        "if numero < 50:\n",
        "  print('E')\n",
        "else:\n",
        "  print('F')\n",
        "\n",
        "  # quando você coloca vários if's, cada if vira uma condição separada. O else pertencerá ao último if antes dele."
      ],
      "execution_count": null,
      "outputs": [
        {
          "output_type": "stream",
          "text": [
            "A\n",
            "B\n",
            "C\n",
            "D\n",
            "E\n"
          ],
          "name": "stdout"
        }
      ]
    },
    {
      "cell_type": "code",
      "metadata": {
        "colab": {
          "base_uri": "https://localhost:8080/"
        },
        "id": "KZVFSa7ovg89",
        "outputId": "d4ad7fe3-1b4c-4a11-d82b-e797bdb1ed95"
      },
      "source": [
        "numero = 3\n",
        "\n",
        "if numero == 1  or numero == 3 or numero == 5:\n",
        "  print('Número impar!')\n",
        "  \n",
        "if numero < 10:\n",
        "  print('Número menor do que 10!')"
      ],
      "execution_count": null,
      "outputs": [
        {
          "output_type": "stream",
          "text": [
            "Número impar!\n",
            "Número menor do que 10!\n"
          ],
          "name": "stdout"
        }
      ]
    },
    {
      "cell_type": "code",
      "metadata": {
        "colab": {
          "base_uri": "https://localhost:8080/"
        },
        "id": "cqrTMpBwwI3Q",
        "outputId": "ddb96f47-e227-40af-8181-394fcd7a64f9"
      },
      "source": [
        "nome = 'Graziela'\n",
        "sobrenome = 'Franzoni'\n",
        "idade = '33'\n",
        "\n",
        "if nome == 'Graziela': # 1\n",
        "  print('Você se chama Graziela') # 2\n",
        "  if sobrenome == 'Franzoni': # 2\n",
        "    print('Eita! Você também se chama Graziela Franzoni?') # 3\n",
        "    if idade == 33: # 3\n",
        "      print('Você sou eu?') # 4\n",
        "    else: # 3\n",
        "      print('Nossa, outra Graziela Franzoni no mundo?') # 4\n",
        "  else: # 2\n",
        "    print('Ufa, não é Franzoni também!') # 2\n",
        "else: # 1\n",
        "  print('Você não é a Graziela') # 3"
      ],
      "execution_count": null,
      "outputs": [
        {
          "output_type": "stream",
          "text": [
            "Você se chama Graziela\n",
            "Eita! Você também se chama Graziela Franzoni?\n",
            "Nossa, outra Graziela Franzoni no mundo?\n"
          ],
          "name": "stdout"
        }
      ]
    },
    {
      "cell_type": "code",
      "metadata": {
        "colab": {
          "base_uri": "https://localhost:8080/"
        },
        "id": "MxPwaPq50rWL",
        "outputId": "4ebea9d6-c0a4-4d07-db72-ebdefba89f6a"
      },
      "source": [
        "nome = 'Graziela'\n",
        "sobrenome = 'Silva'\n",
        "idade = '33'\n",
        "\n",
        "if nome == 'Graziela': # 1\n",
        "  print('Você se chama Graziela') # 2\n",
        "  if sobrenome == 'Franzoni': # 2\n",
        "    print('Eita! Você também se chama Graziela Franzoni?') # 3\n",
        "    if idade == 33: # 3\n",
        "      print('Você sou eu?') # 4\n",
        "    else: # 3\n",
        "      print('Nossa, outra Graziela Franzoni no mundo?') # 4\n",
        "  else: # 2\n",
        "    print('Ufa, não é Franzoni também!') # 2\n",
        "else: # 1\n",
        "  print('Você não é a Graziela') # 3"
      ],
      "execution_count": null,
      "outputs": [
        {
          "output_type": "stream",
          "text": [
            "Você se chama Graziela\n",
            "Ufa, não é Franzoni também!\n"
          ],
          "name": "stdout"
        }
      ]
    },
    {
      "cell_type": "code",
      "metadata": {
        "colab": {
          "base_uri": "https://localhost:8080/"
        },
        "id": "ZZPoxYqy1H42",
        "outputId": "ba6d76e4-14f1-41f5-e035-483417bf1237"
      },
      "source": [
        "nome = 'Graziela'\n",
        "sobrenome = 'Silva'\n",
        "idade = '23'\n",
        "\n",
        "if nome == 'Graziela': # 1\n",
        "  print('Você se chama Graziela') # 2\n",
        "\n",
        "  if sobrenome == 'Franzoni': # 2\n",
        "    print('Eita! Você também se chama Graziela Franzoni?') # 3\n",
        "\n",
        "    if idade == 33: # 3\n",
        "      print('Você sou eu?') # 4\n",
        "    else: # 3\n",
        "      print('Nossa, outra Graziela Franzoni no mundo?') # 4\n",
        "\n",
        "  else: # 2\n",
        "    print('Ufa, não é Franzoni também!') # 2\n",
        "\n",
        "else: # 1\n",
        "  print('Você não é a Graziela') # 3"
      ],
      "execution_count": null,
      "outputs": [
        {
          "output_type": "stream",
          "text": [
            "Você se chama Graziela\n",
            "Ufa, não é Franzoni também!\n"
          ],
          "name": "stdout"
        }
      ]
    },
    {
      "cell_type": "code",
      "metadata": {
        "colab": {
          "base_uri": "https://localhost:8080/"
        },
        "id": "heQYz4a_1xuN",
        "outputId": "bbb5aa5a-9569-4822-9eeb-f7a6627ec8aa"
      },
      "source": [
        "hora = 15\n",
        "\n",
        "if hora >= 0 and hora < 6:\n",
        "  print('Boa madrugada!')\n",
        "elif hora <= 12:\n",
        "  print('Bom dia!')\n",
        "elif hora <= 18:\n",
        "  print('Boa tarde!')\n",
        "else:\n",
        "  print('Boa noite!')"
      ],
      "execution_count": null,
      "outputs": [
        {
          "output_type": "stream",
          "text": [
            "Boa tarde!\n"
          ],
          "name": "stdout"
        }
      ]
    },
    {
      "cell_type": "markdown",
      "metadata": {
        "id": "1QRn7hnj8Axt"
      },
      "source": [
        "# Laços de repetição\n",
        "\n",
        "Forma de evitar repetição de código, executa uma ação repetidas vezes.\n",
        "\n",
        "Sintaxe:\n",
        "\n",
        "for variavel in intervalo/sequencia\n",
        "for numero in range() # range é intervalo em inglês\n",
        "\n",
        "**for (para cada) =>** Sintaxe do Python para laços de repetição\n",
        "\n",
        "**variavel =>** O dado que estamos trabalhando no momento.\n",
        "\n",
        "**in (no/na) =>** Palavra-chave \"onde vamos fazer a repetição\".\n",
        "\n",
        "**intervalo/sequência =>** O que vamos usar para a repetição."
      ]
    },
    {
      "cell_type": "code",
      "metadata": {
        "colab": {
          "base_uri": "https://localhost:8080/"
        },
        "id": "wqcwjReg8EL5",
        "outputId": "7a2a8a0d-e747-4e4d-b3ea-bb27f3e1f4bd"
      },
      "source": [
        "print(1)\n",
        "print(2)\n",
        "print(3)\n",
        "print(4)\n",
        "print(5)\n",
        "print(6)\n",
        "print(7)\n",
        "print(8)\n",
        "print(9)\n",
        "print(10)\n",
        "print(11)"
      ],
      "execution_count": null,
      "outputs": [
        {
          "output_type": "stream",
          "text": [
            "1\n",
            "2\n",
            "3\n",
            "4\n",
            "5\n",
            "6\n",
            "7\n",
            "8\n",
            "9\n",
            "10\n",
            "11\n"
          ],
          "name": "stdout"
        }
      ]
    },
    {
      "cell_type": "code",
      "metadata": {
        "colab": {
          "base_uri": "https://localhost:8080/"
        },
        "id": "lEGLA1A4_kVg",
        "outputId": "27d3bde6-c908-46f2-f1f1-9b2d325ac956"
      },
      "source": [
        "# para cada numero no intervalo até 10.\n",
        "for numero in range(10):\n",
        "  # mostra esse numero\n",
        "  print(numero)"
      ],
      "execution_count": null,
      "outputs": [
        {
          "output_type": "stream",
          "text": [
            "0\n",
            "1\n",
            "2\n",
            "3\n",
            "4\n",
            "5\n",
            "6\n",
            "7\n",
            "8\n",
            "9\n"
          ],
          "name": "stdout"
        }
      ]
    },
    {
      "cell_type": "markdown",
      "metadata": {
        "id": "HxV828zUFaur"
      },
      "source": [
        "*   Na programação tudo começa em 0.\n",
        "*   Na programação o limite inferior é INCLUSIVO (faz parte).\n",
        "*   Na programação o limite superior é EXCLUSIVO (não faz parte). Então se vai até 10, o 10 não faz parte.\n",
        "\n",
        "\n",
        "\n"
      ]
    },
    {
      "cell_type": "code",
      "metadata": {
        "colab": {
          "base_uri": "https://localhost:8080/"
        },
        "id": "T1SUAo91Gahl",
        "outputId": "790b0b16-4528-4717-e46b-9b38dce99e41"
      },
      "source": [
        "# então se eu realmente quero mostrar até 10:\n",
        "for numero in range(11):\n",
        "  print(numero)"
      ],
      "execution_count": null,
      "outputs": [
        {
          "output_type": "stream",
          "text": [
            "0\n",
            "1\n",
            "2\n",
            "3\n",
            "4\n",
            "5\n",
            "6\n",
            "7\n",
            "8\n",
            "9\n",
            "10\n"
          ],
          "name": "stdout"
        }
      ]
    },
    {
      "cell_type": "code",
      "metadata": {
        "id": "InFBXhHPGc0h",
        "colab": {
          "base_uri": "https://localhost:8080/"
        },
        "outputId": "b37800f5-10e6-4095-b6af-80d2d430ac9e"
      },
      "source": [
        "# então para mostrar de 1 até 10, tem que ser assim:\n",
        "for numero in range(1,11):\n",
        "  print(numero)"
      ],
      "execution_count": 1,
      "outputs": [
        {
          "output_type": "stream",
          "text": [
            "1\n",
            "2\n",
            "3\n",
            "4\n",
            "5\n",
            "6\n",
            "7\n",
            "8\n",
            "9\n",
            "10\n"
          ],
          "name": "stdout"
        }
      ]
    },
    {
      "cell_type": "code",
      "metadata": {
        "colab": {
          "base_uri": "https://localhost:8080/"
        },
        "id": "SYgPtL8XxtVD",
        "outputId": "7427685c-0b6b-4967-9174-ca5cb46091fe"
      },
      "source": [
        "for numero in range(10):\n",
        "  if numero == 5:\n",
        "    print('Está no 5!')"
      ],
      "execution_count": 3,
      "outputs": [
        {
          "output_type": "stream",
          "text": [
            "Está no 5!\n"
          ],
          "name": "stdout"
        }
      ]
    },
    {
      "cell_type": "code",
      "metadata": {
        "colab": {
          "base_uri": "https://localhost:8080/"
        },
        "id": "LHEpJC7a3fTX",
        "outputId": "5e3f6970-fce2-4881-ae9f-67a3bf32f5a2"
      },
      "source": [
        "for numero in range(1,10,2):\n",
        "  print(numero)\n",
        "\n",
        "# pula de 2 em 2"
      ],
      "execution_count": 4,
      "outputs": [
        {
          "output_type": "stream",
          "text": [
            "1\n",
            "3\n",
            "5\n",
            "7\n",
            "9\n"
          ],
          "name": "stdout"
        }
      ]
    },
    {
      "cell_type": "code",
      "metadata": {
        "colab": {
          "base_uri": "https://localhost:8080/"
        },
        "id": "EotbZaNE32qu",
        "outputId": "af2ba820-21b2-4ec2-bb2f-4b894f47b7c7"
      },
      "source": [
        "for numero in range(10,1,-1):\n",
        "  print(numero)"
      ],
      "execution_count": 7,
      "outputs": [
        {
          "output_type": "stream",
          "text": [
            "10\n",
            "9\n",
            "8\n",
            "7\n",
            "6\n",
            "5\n",
            "4\n",
            "3\n",
            "2\n"
          ],
          "name": "stdout"
        }
      ]
    },
    {
      "cell_type": "code",
      "metadata": {
        "colab": {
          "base_uri": "https://localhost:8080/"
        },
        "id": "er7AsYUI4OrJ",
        "outputId": "0a006cab-9e20-4ee3-ede5-75448f11ef76"
      },
      "source": [
        "for numero in range(10,0,-1):\n",
        "  print(numero)"
      ],
      "execution_count": 8,
      "outputs": [
        {
          "output_type": "stream",
          "text": [
            "10\n",
            "9\n",
            "8\n",
            "7\n",
            "6\n",
            "5\n",
            "4\n",
            "3\n",
            "2\n",
            "1\n"
          ],
          "name": "stdout"
        }
      ]
    },
    {
      "cell_type": "code",
      "metadata": {
        "colab": {
          "base_uri": "https://localhost:8080/"
        },
        "id": "EhQz5kfI4YIK",
        "outputId": "a9140a57-99ab-4a82-892b-23b548f02243"
      },
      "source": [
        "# dividir numero por 2, e se der 0 é um número par\n",
        "for numero in range(1,11):\n",
        "  if numero % 2 == 0:\n",
        "    print(f'O {numero} é par!')\n",
        "  else:\n",
        "    print(f'O {numero} é ímpar!')"
      ],
      "execution_count": 9,
      "outputs": [
        {
          "output_type": "stream",
          "text": [
            "O 1 é ímpar!\n",
            "O 2 é par!\n",
            "O 3 é ímpar!\n",
            "O 4 é par!\n",
            "O 5 é ímpar!\n",
            "O 6 é par!\n",
            "O 7 é ímpar!\n",
            "O 8 é par!\n",
            "O 9 é ímpar!\n",
            "O 10 é par!\n"
          ],
          "name": "stdout"
        }
      ]
    },
    {
      "cell_type": "code",
      "metadata": {
        "colab": {
          "base_uri": "https://localhost:8080/"
        },
        "id": "ypXtOcBQ6MBW",
        "outputId": "7121afd4-8d8b-4a8f-9787-c7617e0b1ff9"
      },
      "source": [
        "numeros_validos = [1,3,5,7,9]\n",
        "\n",
        "numero_escolhido = 3\n",
        "\n",
        "for numero in numeros_validos:\n",
        "  if numero == numero_escolhido:\n",
        "    print('Acertou!')\n",
        "  else:\n",
        "    print('Errou!')\n",
        "\n",
        "# O resultado ficou assim, porque colocou o else dentro do laço for. Então ele checou para cada número se o 3 estava ou não aqui dentro."
      ],
      "execution_count": 10,
      "outputs": [
        {
          "output_type": "stream",
          "text": [
            "Errou!\n",
            "Acertou!\n",
            "Errou!\n",
            "Errou!\n",
            "Errou!\n"
          ],
          "name": "stdout"
        }
      ]
    },
    {
      "cell_type": "code",
      "metadata": {
        "colab": {
          "base_uri": "https://localhost:8080/"
        },
        "id": "u5G7s1LE-boV",
        "outputId": "8ee5899e-fece-46fb-c597-65f8a32c6d60"
      },
      "source": [
        "numeros_validos = [1,3,5,7,9]\n",
        "\n",
        "numero_escolhido = 3\n",
        "\n",
        "for numero in numeros_validos:\n",
        "  if numero == numero_escolhido:\n",
        "    print('Acertou!')"
      ],
      "execution_count": 11,
      "outputs": [
        {
          "output_type": "stream",
          "text": [
            "Acertou!\n"
          ],
          "name": "stdout"
        }
      ]
    },
    {
      "cell_type": "code",
      "metadata": {
        "colab": {
          "base_uri": "https://localhost:8080/"
        },
        "id": "X2WF-bOh-y2b",
        "outputId": "9b04d0d7-0da7-43ec-b022-06a4512783d3"
      },
      "source": [
        "nomes = ['Flash', 'Greg', 'Kratos', 'Batman', 'Pooky', 'Felix', 'Doctor', 'Gohan', 'Robin', 'Gandalf', 'Obi-Wan']\n",
        "\n",
        "for nome in nomes:\n",
        "  print('O Felipe tem um gato chamado', nome)"
      ],
      "execution_count": 15,
      "outputs": [
        {
          "output_type": "stream",
          "text": [
            "O Felipe tem um gato chamado Flash\n",
            "O Felipe tem um gato chamado Greg\n",
            "O Felipe tem um gato chamado Kratos\n",
            "O Felipe tem um gato chamado Batman\n",
            "O Felipe tem um gato chamado Pooky\n",
            "O Felipe tem um gato chamado Felix\n",
            "O Felipe tem um gato chamado Doctor\n",
            "O Felipe tem um gato chamado Gohan\n",
            "O Felipe tem um gato chamado Robin\n",
            "O Felipe tem um gato chamado Gandalf\n",
            "O Felipe tem um gato chamado Obi-Wan\n"
          ],
          "name": "stdout"
        }
      ]
    },
    {
      "cell_type": "code",
      "metadata": {
        "colab": {
          "base_uri": "https://localhost:8080/"
        },
        "id": "t7VcFvdPAPlJ",
        "outputId": "fc13bbdc-7f0f-46f5-e790-40c132746d6e"
      },
      "source": [
        "notas = [10, 7, 9, 10, 5]\n",
        "\n",
        "soma = 0\n",
        "\n",
        "for nota in notas:\n",
        "  soma = soma + nota\n",
        "\n",
        "soma"
      ],
      "execution_count": 18,
      "outputs": [
        {
          "output_type": "execute_result",
          "data": {
            "text/plain": [
              "41"
            ]
          },
          "metadata": {
            "tags": []
          },
          "execution_count": 18
        }
      ]
    },
    {
      "cell_type": "code",
      "metadata": {
        "colab": {
          "base_uri": "https://localhost:8080/"
        },
        "id": "P5C6KGpMA8ed",
        "outputId": "88754ff3-d51b-4a57-9e68-b4e57316fa42"
      },
      "source": [
        "notas = [10, 7, 9, 10, 5]\n",
        "\n",
        "soma = 0\n",
        "\n",
        "for nota in notas:\n",
        "  soma = soma + nota\n",
        "\n",
        "media = soma / 5\n",
        "\n",
        "print('A média é', media)"
      ],
      "execution_count": 19,
      "outputs": [
        {
          "output_type": "stream",
          "text": [
            "A média é 8.2\n"
          ],
          "name": "stdout"
        }
      ]
    },
    {
      "cell_type": "code",
      "metadata": {
        "colab": {
          "base_uri": "https://localhost:8080/"
        },
        "id": "hICO_FaIBU30",
        "outputId": "dac54689-c9fa-4ea9-adcb-528f3144731b"
      },
      "source": [
        "notas = [10, 7, 9, 10, 5, 10, 10, 10]\n",
        "\n",
        "soma = 0\n",
        "\n",
        "for nota in notas:\n",
        "  soma = soma + nota\n",
        "\n",
        "media = soma / len(notas)\n",
        "\n",
        "print('A média é', media)"
      ],
      "execution_count": 21,
      "outputs": [
        {
          "output_type": "stream",
          "text": [
            "A média é 8.875\n"
          ],
          "name": "stdout"
        }
      ]
    },
    {
      "cell_type": "code",
      "metadata": {
        "colab": {
          "base_uri": "https://localhost:8080/"
        },
        "id": "wk1EMGpyCW8K",
        "outputId": "33e9ff3b-d465-4b78-e22b-ed45c284bd5e"
      },
      "source": [
        "notas = [10, 7, 9, 10, 5, 10, 10, 10]\n",
        "\n",
        "soma = 0\n",
        "\n",
        "for nota in notas:\n",
        "  soma = soma + nota\n",
        "\n",
        "media = soma / len(notas)\n",
        "\n",
        "print(f'A média é {media:.2f}')"
      ],
      "execution_count": 23,
      "outputs": [
        {
          "output_type": "stream",
          "text": [
            "A média é 8.88\n"
          ],
          "name": "stdout"
        }
      ]
    },
    {
      "cell_type": "markdown",
      "metadata": {
        "id": "fVUWkvvHD-C3"
      },
      "source": [
        "# Funções\n",
        "\n",
        "Uma função é uma rotina.\n",
        "\n",
        "Basicamente, a gente define uma função(rotina) e chamamos(executa) quando for necessário.\n",
        "\n",
        "É uma ótima maneira de evitar repetição de código.\n",
        "\n",
        "# Sintaxe\n",
        "\n",
        "def nome_funcao():\n",
        "\n",
        "Para chamar a função, coloca o seu nome (sem o def e sem :)\n",
        "\n",
        "**Ps:** Coloque os parênteses."
      ]
    },
    {
      "cell_type": "code",
      "metadata": {
        "colab": {
          "base_uri": "https://localhost:8080/"
        },
        "id": "lZsjWP0sGvWL",
        "outputId": "0d7571b3-f5d8-4eb3-92b2-74497524a708"
      },
      "source": [
        "def mostrar_nome():\n",
        "  print('Graziela Franzoni')\n",
        "\n",
        "mostrar_nome()"
      ],
      "execution_count": 24,
      "outputs": [
        {
          "output_type": "stream",
          "text": [
            "Graziela Franzoni\n"
          ],
          "name": "stdout"
        }
      ]
    },
    {
      "cell_type": "code",
      "metadata": {
        "id": "CllU-0j-FI-i"
      },
      "source": [
        "# definir o que é calcular_media\n",
        "nota1 = 10\n",
        "nota2 = 20\n",
        "soma = nota1 + nota2\n",
        "quantidade = 2\n",
        "media = soma / quantidade\n",
        "\n",
        "# chamar a rotina de calcular_media\n",
        "calcula a media"
      ],
      "execution_count": null,
      "outputs": []
    },
    {
      "cell_type": "code",
      "metadata": {
        "id": "YzQxkoaiHnTH"
      },
      "source": [
        "def calcular_media():\n",
        "  nota1 = 10\n",
        "  nota2 = 20\n",
        "  soma = nota1 + nota2\n",
        "  quantidade = 2\n",
        "  media = soma / quantidade\n",
        "  print(media)"
      ],
      "execution_count": 25,
      "outputs": []
    },
    {
      "cell_type": "code",
      "metadata": {
        "colab": {
          "base_uri": "https://localhost:8080/"
        },
        "id": "EXlbcueoH8un",
        "outputId": "23e443c4-0e58-42d8-fdcc-344753185afd"
      },
      "source": [
        "calcular_media()"
      ],
      "execution_count": 26,
      "outputs": [
        {
          "output_type": "stream",
          "text": [
            "15.0\n"
          ],
          "name": "stdout"
        }
      ]
    },
    {
      "cell_type": "markdown",
      "metadata": {
        "id": "ZXk_4FOLIVUn"
      },
      "source": [
        "# Parâmetros/Argumentos\n",
        "\n",
        "É uma forma de enviar dados para a função trabalhar, ou seja, envio informações para a rotina processar."
      ]
    },
    {
      "cell_type": "code",
      "metadata": {
        "colab": {
          "base_uri": "https://localhost:8080/"
        },
        "id": "21VIEiW5OkB-",
        "outputId": "c58e4bd8-343a-4e5f-a077-08a4cb2649e8"
      },
      "source": [
        "print('Olá Mundo!') # estou enviando \"Olá Mundo!\" por parâmetro"
      ],
      "execution_count": 27,
      "outputs": [
        {
          "output_type": "stream",
          "text": [
            "Olá Mundo!\n"
          ],
          "name": "stdout"
        }
      ]
    },
    {
      "cell_type": "code",
      "metadata": {
        "id": "CeJ5KLvhOvlL"
      },
      "source": [
        "def calcular_media(nota1, nota2):\n",
        "  soma = nota1 + nota2\n",
        "  quantidade = 2\n",
        "  media = soma / quantidade\n",
        "  print(media)"
      ],
      "execution_count": 28,
      "outputs": []
    },
    {
      "cell_type": "code",
      "metadata": {
        "colab": {
          "base_uri": "https://localhost:8080/"
        },
        "id": "P_fR0dF8PPSg",
        "outputId": "a83d1942-b8c9-4709-a3cd-23886dcfb9cc"
      },
      "source": [
        "calcular_media(8,9)"
      ],
      "execution_count": 29,
      "outputs": [
        {
          "output_type": "stream",
          "text": [
            "8.5\n"
          ],
          "name": "stdout"
        }
      ]
    },
    {
      "cell_type": "code",
      "metadata": {
        "id": "uxgzd4kUP-An"
      },
      "source": [
        "lista = [1,2,3]\n",
        "tamanho = len(lista)"
      ],
      "execution_count": 30,
      "outputs": []
    },
    {
      "cell_type": "code",
      "metadata": {
        "colab": {
          "base_uri": "https://localhost:8080/"
        },
        "id": "9NcHTvTkQG84",
        "outputId": "01cf9f10-9ea4-4e69-d0cf-762483e511f8"
      },
      "source": [
        "media = calcular_media(10,0)"
      ],
      "execution_count": 32,
      "outputs": [
        {
          "output_type": "stream",
          "text": [
            "5.0\n"
          ],
          "name": "stdout"
        }
      ]
    },
    {
      "cell_type": "code",
      "metadata": {
        "colab": {
          "base_uri": "https://localhost:8080/"
        },
        "id": "DIoAztw7QTbk",
        "outputId": "c3731b22-df18-4886-8d9e-ad3eb63f5366"
      },
      "source": [
        "print(media)"
      ],
      "execution_count": 33,
      "outputs": [
        {
          "output_type": "stream",
          "text": [
            "None\n"
          ],
          "name": "stdout"
        }
      ]
    },
    {
      "cell_type": "markdown",
      "metadata": {
        "id": "8X84lymFQ9ff"
      },
      "source": [
        "# Retorno\n",
        "\n",
        "É uma forma de desenvolver/enviar algo trabalhado na função(rotina)."
      ]
    },
    {
      "cell_type": "code",
      "metadata": {
        "id": "hRchf5eRTzSO"
      },
      "source": [
        "def calcular_media(nota1, nota2):\n",
        "  soma = nota1 + nota2\n",
        "  quantidade = 2\n",
        "  media = soma / quantidade\n",
        "  return media"
      ],
      "execution_count": 34,
      "outputs": []
    },
    {
      "cell_type": "code",
      "metadata": {
        "id": "rT9B1ewRT5l5"
      },
      "source": [
        "media_calculada = calcular_media(10,5)"
      ],
      "execution_count": 37,
      "outputs": []
    },
    {
      "cell_type": "code",
      "metadata": {
        "colab": {
          "base_uri": "https://localhost:8080/"
        },
        "id": "rXcMRcRkUCmZ",
        "outputId": "0eadbaf0-f656-4992-9448-ed4db390c2a9"
      },
      "source": [
        "print(media_calculada)"
      ],
      "execution_count": 38,
      "outputs": [
        {
          "output_type": "stream",
          "text": [
            "7.5\n"
          ],
          "name": "stdout"
        }
      ]
    },
    {
      "cell_type": "code",
      "metadata": {
        "colab": {
          "base_uri": "https://localhost:8080/"
        },
        "id": "gQfNfGcSUYop",
        "outputId": "9cc13f68-0bb6-4f2e-d262-310e37966d37"
      },
      "source": [
        "def mostrar_nome(nome):\n",
        "  print('O nome é', nome)\n",
        "\n",
        "mostrar_nome('Paulo')"
      ],
      "execution_count": 39,
      "outputs": [
        {
          "output_type": "stream",
          "text": [
            "O nome é Paulo\n"
          ],
          "name": "stdout"
        }
      ]
    },
    {
      "cell_type": "code",
      "metadata": {
        "colab": {
          "base_uri": "https://localhost:8080/"
        },
        "id": "0ZaHBuR-Ux_m",
        "outputId": "097f9598-2ecb-40f5-f313-778767d41daf"
      },
      "source": [
        "def calcular_media(nota1, nota2):\n",
        "  soma = nota1 + nota2\n",
        "  quantidade = 2\n",
        "  media = soma / quantidade\n",
        "  return media\n",
        "\n",
        "media_aluno = calcular_media(10, 6)\n",
        "\n",
        "if media_aluno > 6:\n",
        "  print('Aprovado!')\n",
        "else:\n",
        "  print('Reprovado!')"
      ],
      "execution_count": 40,
      "outputs": [
        {
          "output_type": "stream",
          "text": [
            "Aprovado!\n"
          ],
          "name": "stdout"
        }
      ]
    },
    {
      "cell_type": "code",
      "metadata": {
        "colab": {
          "base_uri": "https://localhost:8080/"
        },
        "id": "E0gIpUgEVkYW",
        "outputId": "a6248bbb-c9c3-4066-88bc-b32240966239"
      },
      "source": [
        "def aluno_aprovado(nome, nota1, nota2):\n",
        "  media_calculada = calcular_media(nota1, nota2)\n",
        "\n",
        "  if calcular_media(nota1, nota2) >= 6:\n",
        "    print(f'A aluna {nome} foi aprovada!')\n",
        "  else:\n",
        "    print(f'A aluna {nome} foi reprovada!')\n",
        "\n",
        "aluno_aprovado('Graziela', 10, 7)"
      ],
      "execution_count": 44,
      "outputs": [
        {
          "output_type": "stream",
          "text": [
            "A aluna Graziela foi aprovada!\n"
          ],
          "name": "stdout"
        }
      ]
    },
    {
      "cell_type": "code",
      "metadata": {
        "id": "32dgOmakXW1x"
      },
      "source": [
        "def muitos_retornos():\n",
        "  return 10, 20, 'Graziela'"
      ],
      "execution_count": 45,
      "outputs": []
    },
    {
      "cell_type": "code",
      "metadata": {
        "id": "o98x-1h6Xi1k"
      },
      "source": [
        "retornado = muitos_retornos()"
      ],
      "execution_count": 46,
      "outputs": []
    },
    {
      "cell_type": "code",
      "metadata": {
        "colab": {
          "base_uri": "https://localhost:8080/"
        },
        "id": "SDIRMiMKXr8W",
        "outputId": "7c2f016c-7adc-4a36-87b5-f5e8c91b59e7"
      },
      "source": [
        "retornado # ele cria como se fosse uma tupla. Tupla é tipo lista, mas é imutável, você não pode mudar."
      ],
      "execution_count": 47,
      "outputs": [
        {
          "output_type": "execute_result",
          "data": {
            "text/plain": [
              "(10, 20, 'Graziela')"
            ]
          },
          "metadata": {
            "tags": []
          },
          "execution_count": 47
        }
      ]
    },
    {
      "cell_type": "code",
      "metadata": {
        "colab": {
          "base_uri": "https://localhost:8080/"
        },
        "id": "Z1Yxn4IMX7d7",
        "outputId": "a7cee6da-6a57-4933-87df-9c162cd8a8fe"
      },
      "source": [
        "retornado[0]"
      ],
      "execution_count": 48,
      "outputs": [
        {
          "output_type": "execute_result",
          "data": {
            "text/plain": [
              "10"
            ]
          },
          "metadata": {
            "tags": []
          },
          "execution_count": 48
        }
      ]
    },
    {
      "cell_type": "code",
      "metadata": {
        "colab": {
          "base_uri": "https://localhost:8080/"
        },
        "id": "Iw3ltcOgYANF",
        "outputId": "d5b6b950-0e76-4d1a-e599-2e8732dfbce0"
      },
      "source": [
        "retornado[1]"
      ],
      "execution_count": 49,
      "outputs": [
        {
          "output_type": "execute_result",
          "data": {
            "text/plain": [
              "20"
            ]
          },
          "metadata": {
            "tags": []
          },
          "execution_count": 49
        }
      ]
    },
    {
      "cell_type": "code",
      "metadata": {
        "colab": {
          "base_uri": "https://localhost:8080/",
          "height": 35
        },
        "id": "kwGhJVOmYEIS",
        "outputId": "77b827e3-e48b-46e6-8a6d-1cd2d2b8f331"
      },
      "source": [
        "retornado[2]"
      ],
      "execution_count": 50,
      "outputs": [
        {
          "output_type": "execute_result",
          "data": {
            "application/vnd.google.colaboratory.intrinsic+json": {
              "type": "string"
            },
            "text/plain": [
              "'Graziela'"
            ]
          },
          "metadata": {
            "tags": []
          },
          "execution_count": 50
        }
      ]
    },
    {
      "cell_type": "code",
      "metadata": {
        "id": "9XkD_K23YNXW"
      },
      "source": [
        "def muitos_retornos():\n",
        "  return [10, 20, 'Graziela']"
      ],
      "execution_count": 51,
      "outputs": []
    },
    {
      "cell_type": "code",
      "metadata": {
        "id": "8Xn5Vq7zYTak"
      },
      "source": [
        "retornado = muitos_retornos()"
      ],
      "execution_count": 52,
      "outputs": []
    },
    {
      "cell_type": "code",
      "metadata": {
        "colab": {
          "base_uri": "https://localhost:8080/"
        },
        "id": "LdLSFJTdYVwj",
        "outputId": "cc035200-9e40-4aaf-feff-0f888164e177"
      },
      "source": [
        "retornado"
      ],
      "execution_count": 53,
      "outputs": [
        {
          "output_type": "execute_result",
          "data": {
            "text/plain": [
              "[10, 20, 'Graziela']"
            ]
          },
          "metadata": {
            "tags": []
          },
          "execution_count": 53
        }
      ]
    },
    {
      "cell_type": "code",
      "metadata": {
        "colab": {
          "base_uri": "https://localhost:8080/"
        },
        "id": "k9P8N3TEYcCm",
        "outputId": "0b41456a-d5aa-4bce-f471-018186c0644b"
      },
      "source": [
        "retornado[0]"
      ],
      "execution_count": 54,
      "outputs": [
        {
          "output_type": "execute_result",
          "data": {
            "text/plain": [
              "10"
            ]
          },
          "metadata": {
            "tags": []
          },
          "execution_count": 54
        }
      ]
    },
    {
      "cell_type": "code",
      "metadata": {
        "colab": {
          "base_uri": "https://localhost:8080/"
        },
        "id": "DVfgBtJcYd_w",
        "outputId": "55a22e51-49e4-4d4c-dcc8-ce9cd8a31258"
      },
      "source": [
        "retornado[1]"
      ],
      "execution_count": 55,
      "outputs": [
        {
          "output_type": "execute_result",
          "data": {
            "text/plain": [
              "20"
            ]
          },
          "metadata": {
            "tags": []
          },
          "execution_count": 55
        }
      ]
    },
    {
      "cell_type": "code",
      "metadata": {
        "colab": {
          "base_uri": "https://localhost:8080/",
          "height": 35
        },
        "id": "0QrBOHEwYi2G",
        "outputId": "a72499ff-8588-46a2-d91c-1d26ed6c478d"
      },
      "source": [
        "retornado[2]"
      ],
      "execution_count": 56,
      "outputs": [
        {
          "output_type": "execute_result",
          "data": {
            "application/vnd.google.colaboratory.intrinsic+json": {
              "type": "string"
            },
            "text/plain": [
              "'Graziela'"
            ]
          },
          "metadata": {
            "tags": []
          },
          "execution_count": 56
        }
      ]
    },
    {
      "cell_type": "code",
      "metadata": {
        "colab": {
          "base_uri": "https://localhost:8080/"
        },
        "id": "gOc6eeplY3w0",
        "outputId": "63ce1a4d-f6cc-494c-df69-045b5f240a79"
      },
      "source": [
        "altura = float(input('Digite sua altura em metros: '))\n",
        "peso = float(input('Digite seu peso em kg: '))\n",
        "\n",
        "imc = peso / altura ** 2\n",
        "\n",
        "print (f'Seu IMC é: {imc:.4f}')\n",
        "\n",
        "if imc < 16:\n",
        "  print('Magreza grave')\n",
        "elif imc < 17:\n",
        "  print('Magreza moderada')\n",
        "elif imc < 18.5:\n",
        "  print('Magreza leve')\n",
        "elif imc < 25:\n",
        "  print('Saudável')\n",
        "elif imc < 30:\n",
        "  print('Sobrepeso')\n",
        "elif imc < 35:\n",
        "  print('Obesidade grau I')\n",
        "elif imc < 40:\n",
        "  print('Obesidade grau II (severa)')\n",
        "else:\n",
        "  print('Obesidade grau III (mórbida)')"
      ],
      "execution_count": 57,
      "outputs": [
        {
          "output_type": "stream",
          "text": [
            "Digite sua altura em metros: 1.65\n",
            "Digite seu peso em kg: 89.0\n",
            "Seu IMC é: 32.6905\n",
            "Obesidade grau I\n"
          ],
          "name": "stdout"
        }
      ]
    },
    {
      "cell_type": "code",
      "metadata": {
        "id": "qmbgdVKWblif"
      },
      "source": [
        "# IMC => PESO(KG) / ALTURA(M)²\n",
        "\n",
        "def numero_quadrado(numero):\n",
        "  quadrado = numero * numero\n",
        "\n",
        "  return quadrado\n",
        "\n",
        "def calcular_imc(peso, altura):\n",
        "  altura_quadrada = numero_quadrado(altura)\n",
        "\n",
        "  imc = peso / altura_quadrada\n",
        "\n",
        "  return imc\n",
        "\n",
        "def classificar(imc):\n",
        "  if imc < 18.5:\n",
        "    print('Magreza')\n",
        "  elif imc >= 18.5 and imc < 25:\n",
        "    print('Normal')\n",
        "  elif imc >= 25 and imc < 30:\n",
        "    print('Sobrepeso')\n",
        "  elif imc >= 30 and imc < 40:\n",
        "    print('Obesidade')\n",
        "  elif imc > 40:\n",
        "    print('Obesidade grave')"
      ],
      "execution_count": 64,
      "outputs": []
    },
    {
      "cell_type": "code",
      "metadata": {
        "colab": {
          "base_uri": "https://localhost:8080/"
        },
        "id": "W9xoWpIZdncZ",
        "outputId": "43e1f940-085a-44ff-9a36-c3994ae4c8c2"
      },
      "source": [
        "peso = float(input('Insira seu peso(kg): '))\n",
        "altura = float(input('Insira sua altura(m): '))\n",
        "\n",
        "meu_imc = calcular_imc(peso, altura)\n",
        "\n",
        "classificar(meu_imc)"
      ],
      "execution_count": 65,
      "outputs": [
        {
          "output_type": "stream",
          "text": [
            "Insira seu peso(kg): 89.0\n",
            "Insira sua altura(m): 1.65\n",
            "Obesidade\n"
          ],
          "name": "stdout"
        }
      ]
    },
    {
      "cell_type": "code",
      "metadata": {
        "colab": {
          "base_uri": "https://localhost:8080/"
        },
        "id": "RgKOLQLyk2b8",
        "outputId": "9c5c0c1c-1a5a-4447-886c-1848289d6a00"
      },
      "source": [
        "frutas = ['Maça', 'Banana', 'Pera', 'Uva']\n",
        "guloseimas = ['Bolacha', 'Batata', 'Fini', 'Chocolate']\n",
        "comidas = ['Arroz', 'Feijão', 'Carne']\n",
        "bebidas = ['Refrigerante', 'Suco de Laranja', 'Água']\n",
        "\n",
        "categorias = ['Frutas', 'Guloseimas', 'Comidas', 'Bebidas']\n",
        "compras = [frutas, guloseimas, comidas, bebidas]\n",
        "\n",
        "for indice, categoria in enumerate(categorias):\n",
        "  print('Você precisa comprar', len(compras[indice]), categoria+':')\n",
        "  for compra in compras[indice]:\n",
        "    print('-', compra)"
      ],
      "execution_count": 67,
      "outputs": [
        {
          "output_type": "stream",
          "text": [
            "Você precisa comprar 4 Frutas:\n",
            "- Maça\n",
            "- Banana\n",
            "- Pera\n",
            "- Uva\n",
            "Você precisa comprar 4 Guloseimas:\n",
            "- Bolacha\n",
            "- Batata\n",
            "- Fini\n",
            "- Chocolate\n",
            "Você precisa comprar 3 Comidas:\n",
            "- Arroz\n",
            "- Feijão\n",
            "- Carne\n",
            "Você precisa comprar 3 Bebidas:\n",
            "- Refrigerante\n",
            "- Suco de Laranja\n",
            "- Água\n"
          ],
          "name": "stdout"
        }
      ]
    },
    {
      "cell_type": "code",
      "metadata": {
        "colab": {
          "base_uri": "https://localhost:8080/"
        },
        "id": "KFJ2ek0Ym3uT",
        "outputId": "eadea135-ec72-4b2b-e8cc-aed9658c76a6"
      },
      "source": [
        "def validar_idade(idade):\n",
        "  if idade < 18:\n",
        "    print('\\nDesculpe, você não tem idade para prosseguir,', nome)\n",
        "    return False\n",
        "  else:\n",
        "    print('\\nÓtimo, podemos prosseguir,', nome)\n",
        "    return True\n",
        "\n",
        "def escolher_carta():\n",
        "  print('Digite uma das opções abaixo:')\n",
        "  print('1 - Carro\\n2 - Moto\\n3 - Carro e Moto')\n",
        "\n",
        "  return int(input())\n",
        "\n",
        "def calcular_preco(escolha):\n",
        "  valor_carro = 1500\n",
        "  valor_moto = 1800\n",
        "\n",
        "  if escolha == 1:\n",
        "    return valor_carro\n",
        "  elif escolha == 2:\n",
        "    return valor_moto\n",
        "  else:\n",
        "    return valor_carro + valor_moto\n",
        "\n",
        "def desconto(valor):\n",
        "  return valor - (valor * 0.10)\n",
        "\n",
        "nome = input('Digite o seu nome: ')\n",
        "idade = int(input('Digite sua idade: '))\n",
        "\n",
        "if validar_idade(idade):\n",
        "  escolha = escolher_carta()\n",
        "\n",
        "  print('\\nPerfeito, vou calcular o valor!')\n",
        "  valor = calcular_preco(escolha)\n",
        "\n",
        "  print('\\n'+nome, 'o valor total é de', valor, 'reais')\n",
        "  print('Mas vou ver com meu gerente se posso dar um desconto...')\n",
        "  valor = desconto(valor)\n",
        "\n",
        "  print('\\nCom desconto eu consigo fazer por', valor, 'reais.')\n",
        "  \n",
        "  print('Te interessa?\\n1 - Sim\\n2 - Não')\n",
        "  interesse = int(input())\n",
        "  if interesse == 1:\n",
        "    print('\\nPerfeito! Começaremos amanhã!')\n",
        "  else:\n",
        "    print('\\nTudo bem :(\\nMe avise se mudar de ideia.')"
      ],
      "execution_count": 73,
      "outputs": [
        {
          "output_type": "stream",
          "text": [
            "Digite o seu nome: Graziela\n",
            "Digite sua idade: 33\n",
            "\n",
            "Ótimo, podemos prosseguir, Graziela\n",
            "Digite uma das opções abaixo:\n",
            "1 - Carro\n",
            "2 - Moto\n",
            "3 - Carro e Moto\n",
            "1\n",
            "\n",
            "Perfeito, vou calcular o valor!\n",
            "\n",
            "Graziela o valor total é de 1500 reais\n",
            "Mas vou ver com meu gerente se posso dar um desconto...\n",
            "\n",
            "Com desconto eu consigo fazer por 1350.0 reais.\n",
            "Te interessa?\n",
            "1 - Sim\n",
            "2 - Não\n",
            "1\n",
            "\n",
            "Perfeito! Começaremos amanhã!\n"
          ],
          "name": "stdout"
        }
      ]
    },
    {
      "cell_type": "code",
      "metadata": {
        "colab": {
          "base_uri": "https://localhost:8080/"
        },
        "id": "jHq4GXrT1wEH",
        "outputId": "c62c432b-7347-4012-a81a-0a171041d320"
      },
      "source": [
        "animais = []\n",
        "\n",
        "animal = input('Digite o nome do(s) seu(s) animal(is) de estimação ou digite 0 se não tiver nenhum:')\n",
        "\n",
        "while animal != '0':\n",
        "  especie = input('Digite a espécie desse animal:')\n",
        "  animais.append([animal, especie])\n",
        "  animal = input('Se tiver mais animais, digite o nome dele. Ou digite 0 se não tiver:')\n",
        "\n",
        "if len(animais) == 0:\n",
        "  print('\\n\\nVocê não tem animais!')\n",
        "else:\n",
        "  print('\\n\\nVocê tem os seguintes animais:')\n",
        "  for animal in animais:\n",
        "    print('- Nome:', animal[0], '| Espécie:', animal[1])"
      ],
      "execution_count": 74,
      "outputs": [
        {
          "output_type": "stream",
          "text": [
            "Digite o nome do(s) seu(s) animal(is) de estimação ou digite 0 se não tiver nenhum:Catarina\n",
            "Digite a espécie desse animal:Lhasa Apso\n",
            "Se tiver mais animais, digite o nome dele. Ou digite 0 se não tiver:Uly\n",
            "Digite a espécie desse animal:Poodle\n",
            "Se tiver mais animais, digite o nome dele. Ou digite 0 se não tiver:0\n",
            "\n",
            "\n",
            "Você tem os seguintes animais:\n",
            "- Nome: Catarina | Espécie: Lhasa Apso\n",
            "- Nome: Uly | Espécie: Poodle\n"
          ],
          "name": "stdout"
        }
      ]
    },
    {
      "cell_type": "code",
      "metadata": {
        "colab": {
          "base_uri": "https://localhost:8080/"
        },
        "id": "GFg2MJAc59wj",
        "outputId": "73c2601c-8da6-4c4d-8c5f-2cb5098fa15d"
      },
      "source": [
        "horario = 'manhã'\n",
        "clima = 'ensolarado'\n",
        "temperatura = 'quente'\n",
        "\n",
        "if horario == 'manhã' or horario == 'tarde':\n",
        "  if clima == 'ensolarado' and temperatura == 'quente':\n",
        "    print('Uma piscina cairia bem!')\n",
        "  if (clima == 'ensolarado' or clima == 'nublado' and temperatura == 'amena' or temperatura == 'frio'):\n",
        "    print('Seria legal um esporte!')\n",
        "  if clima == 'chuvoso':\n",
        "    print('Aproveite para treinar seu Python!')\n",
        "else:\n",
        "  if clima == 'chuvoso':\n",
        "    print('Que tal um filme, série ou jogatina?')\n",
        "  else:\n",
        "    print('Um jantar fora parece interessante...')"
      ],
      "execution_count": 75,
      "outputs": [
        {
          "output_type": "stream",
          "text": [
            "Uma piscina cairia bem!\n",
            "Seria legal um esporte!\n"
          ],
          "name": "stdout"
        }
      ]
    }
  ]
}